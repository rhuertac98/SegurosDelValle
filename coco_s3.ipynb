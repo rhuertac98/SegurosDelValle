{
 "cells": [
  {
   "cell_type": "code",
   "execution_count": 1,
   "id": "95dc965c-3b78-4311-9a2c-17c2e6ce88de",
   "metadata": {},
   "outputs": [],
   "source": [
    "import pandas as pd\n",
    "import boto3\n",
    "from io import BytesIO\n",
    "from datetime import datetime\n",
    "from openpyxl import load_workbook\n",
    "from reportlab.pdfgen import canvas\n",
    "from reportlab.lib.utils import ImageReader\n",
    "from  src.calc_primas import calcular_edad\n",
    "from src.calc_primas import obtener_lista_nombre_bases\n",
    "from src.calc_primas import obtener_base_parametros\n",
    "from src.calc_primas import obtener_base_cuotas\n",
    "from src.calc_primas import obtener_base_emisiones\n",
    "from src.calc_primas import obtener_base_historico"
   ]
  },
  {
   "cell_type": "code",
   "execution_count": 2,
   "id": "ace17f53-edea-4ee2-8aa5-fc871ceff6cc",
   "metadata": {},
   "outputs": [],
   "source": [
    "bucket_name = \"itam-analytics-grb\"\n",
    "s3 = boto3.client(\"s3\")"
   ]
  },
  {
   "cell_type": "code",
   "execution_count": 3,
   "id": "b12ef5b9-78e5-47a6-981b-3a8f4ad89c4b",
   "metadata": {},
   "outputs": [],
   "source": [
    "# Rutas\n",
    "ruta_base_asegurados = \"coco/data/solicitudes/Base_Datos/\"\n",
    "ruta_parametros = \"coco/data/solicitudes/parametros/parametros.xlsx\"\n",
    "ruta_cuotas = \"coco/modelo/experiencia_global.xlsx\"\n",
    "ruta_emisiones = \"coco/data/emisiones.xlsx\"\n",
    "ruta_historico_cotizaciones = \"coco/data/cotizaciones.xlsx\"\n"
   ]
  },
  {
   "cell_type": "code",
   "execution_count": 4,
   "id": "9055eddd",
   "metadata": {},
   "outputs": [
    {
     "data": {
      "text/plain": [
       "['coco/data/solicitudes/Base_Datos/EmpresaA.xlsx',\n",
       " 'coco/data/solicitudes/Base_Datos/EmpresaB.xlsx',\n",
       " 'coco/data/solicitudes/Base_Datos/EmpresaC.xlsx',\n",
       " 'coco/data/solicitudes/Base_Datos/EmpresaD.xlsx',\n",
       " 'coco/data/solicitudes/Base_Datos/EmpresaE.xlsx']"
      ]
     },
     "execution_count": 4,
     "metadata": {},
     "output_type": "execute_result"
    }
   ],
   "source": [
    "obtener_lista_nombre_bases(ruta_base_asegurados, bucket_name)"
   ]
  },
  {
   "cell_type": "code",
   "execution_count": 9,
   "id": "1144693d",
   "metadata": {},
   "outputs": [
    {
     "data": {
      "text/plain": [
       "5"
      ]
     },
     "execution_count": 9,
     "metadata": {},
     "output_type": "execute_result"
    }
   ],
   "source": [
    "len(obtener_base_parametros(ruta_parametros, bucket_name))"
   ]
  },
  {
   "cell_type": "code",
   "execution_count": 6,
   "id": "b61a01ad",
   "metadata": {},
   "outputs": [
    {
     "data": {
      "application/vnd.microsoft.datawrangler.viewer.v0+json": {
       "columns": [
        {
         "name": "index",
         "rawType": "int64",
         "type": "integer"
        },
        {
         "name": "Edad",
         "rawType": "int64",
         "type": "integer"
        },
        {
         "name": "Fallecimiento",
         "rawType": "float64",
         "type": "float"
        },
        {
         "name": "MA",
         "rawType": "float64",
         "type": "float"
        },
        {
         "name": "BPAI",
         "rawType": "float64",
         "type": "float"
        }
       ],
       "conversionMethod": "pd.DataFrame",
       "ref": "b78c2aaf-ece5-4cf9-bdc1-d4fa1f4b5017",
       "rows": [
        [
         "0",
         "15",
         "1.21",
         "0.52",
         "0.19"
        ],
        [
         "1",
         "16",
         "1.21",
         "0.52",
         "0.19"
        ],
        [
         "2",
         "17",
         "1.23",
         "0.52",
         "0.19"
        ],
        [
         "3",
         "18",
         "1.25",
         "0.52",
         "0.22"
        ],
        [
         "4",
         "19",
         "1.26",
         "0.52",
         "0.25"
        ],
        [
         "5",
         "20",
         "1.26",
         "0.52",
         "0.29"
        ],
        [
         "6",
         "21",
         "1.26",
         "0.52",
         "0.3"
        ],
        [
         "7",
         "22",
         "1.28",
         "0.52",
         "0.33"
        ],
        [
         "8",
         "23",
         "1.3",
         "0.52",
         "0.33"
        ],
        [
         "9",
         "24",
         "1.3",
         "0.52",
         "0.35"
        ],
        [
         "10",
         "25",
         "1.32",
         "0.52",
         "0.37"
        ],
        [
         "11",
         "26",
         "1.32",
         "0.52",
         "0.38"
        ],
        [
         "12",
         "27",
         "1.32",
         "0.52",
         "0.4"
        ],
        [
         "13",
         "28",
         "1.32",
         "0.52",
         "0.4"
        ],
        [
         "14",
         "29",
         "1.33",
         "0.52",
         "0.41"
        ],
        [
         "15",
         "30",
         "1.37",
         "0.52",
         "0.41"
        ],
        [
         "16",
         "31",
         "1.4",
         "0.52",
         "0.43"
        ],
        [
         "17",
         "32",
         "1.46",
         "0.52",
         "0.44"
        ],
        [
         "18",
         "33",
         "1.51",
         "0.52",
         "0.44"
        ],
        [
         "19",
         "34",
         "1.56",
         "0.52",
         "0.46"
        ],
        [
         "20",
         "35",
         "1.63",
         "0.52",
         "0.48"
        ],
        [
         "21",
         "36",
         "1.72",
         "0.52",
         "0.49"
        ],
        [
         "22",
         "37",
         "1.81",
         "0.52",
         "0.52"
        ],
        [
         "23",
         "38",
         "1.91",
         "0.52",
         "0.54"
        ],
        [
         "24",
         "39",
         "2.02",
         "0.52",
         "0.57"
        ],
        [
         "25",
         "40",
         "2.06",
         "0.52",
         "0.6"
        ],
        [
         "26",
         "41",
         "2.06",
         "0.52",
         "0.63"
        ],
        [
         "27",
         "42",
         "2.19",
         "0.52",
         "0.68"
        ],
        [
         "28",
         "43",
         "2.33",
         "0.52",
         "0.73"
        ],
        [
         "29",
         "44",
         "2.48",
         "0.52",
         "0.76"
        ],
        [
         "30",
         "45",
         "2.65",
         "0.52",
         "0.83"
        ],
        [
         "31",
         "46",
         "2.83",
         "0.52",
         "0.87"
        ],
        [
         "32",
         "47",
         "3.02",
         "0.52",
         "0.95"
        ],
        [
         "33",
         "48",
         "3.22",
         "0.52",
         "1.03"
        ],
        [
         "34",
         "49",
         "3.44",
         "0.52",
         "1.14"
        ],
        [
         "35",
         "50",
         "3.7",
         "0.52",
         "1.29"
        ],
        [
         "36",
         "51",
         "3.95",
         "0.52",
         "1.46"
        ],
        [
         "37",
         "52",
         "4.24",
         "0.52",
         "1.68"
        ],
        [
         "38",
         "53",
         "4.54",
         "0.52",
         "1.95"
        ],
        [
         "39",
         "54",
         "4.89",
         "0.52",
         "2.27"
        ],
        [
         "40",
         "55",
         "5.25",
         "0.52",
         "2.63"
        ],
        [
         "41",
         "56",
         "5.68",
         "0.52",
         "3.11"
        ],
        [
         "42",
         "57",
         "6.14",
         "0.52",
         "3.46"
        ],
        [
         "43",
         "58",
         "6.67",
         "0.52",
         "3.84"
        ],
        [
         "44",
         "59",
         "7.25",
         "0.52",
         "4.24"
        ],
        [
         "45",
         "60",
         "7.92",
         "0.52",
         "4.68"
        ],
        [
         "46",
         "61",
         "8.68",
         "0.52",
         "5.19"
        ],
        [
         "47",
         "62",
         "9.57",
         "0.52",
         "5.73"
        ],
        [
         "48",
         "63",
         "10.59",
         "0.52",
         "6.33"
        ],
        [
         "49",
         "64",
         "11.76",
         "0.52",
         "7.0"
        ]
       ],
       "shape": {
        "columns": 4,
        "rows": 61
       }
      },
      "text/html": [
       "<div>\n",
       "<style scoped>\n",
       "    .dataframe tbody tr th:only-of-type {\n",
       "        vertical-align: middle;\n",
       "    }\n",
       "\n",
       "    .dataframe tbody tr th {\n",
       "        vertical-align: top;\n",
       "    }\n",
       "\n",
       "    .dataframe thead th {\n",
       "        text-align: right;\n",
       "    }\n",
       "</style>\n",
       "<table border=\"1\" class=\"dataframe\">\n",
       "  <thead>\n",
       "    <tr style=\"text-align: right;\">\n",
       "      <th></th>\n",
       "      <th>Edad</th>\n",
       "      <th>Fallecimiento</th>\n",
       "      <th>MA</th>\n",
       "      <th>BPAI</th>\n",
       "    </tr>\n",
       "  </thead>\n",
       "  <tbody>\n",
       "    <tr>\n",
       "      <th>0</th>\n",
       "      <td>15</td>\n",
       "      <td>1.21</td>\n",
       "      <td>0.52</td>\n",
       "      <td>0.19</td>\n",
       "    </tr>\n",
       "    <tr>\n",
       "      <th>1</th>\n",
       "      <td>16</td>\n",
       "      <td>1.21</td>\n",
       "      <td>0.52</td>\n",
       "      <td>0.19</td>\n",
       "    </tr>\n",
       "    <tr>\n",
       "      <th>2</th>\n",
       "      <td>17</td>\n",
       "      <td>1.23</td>\n",
       "      <td>0.52</td>\n",
       "      <td>0.19</td>\n",
       "    </tr>\n",
       "    <tr>\n",
       "      <th>3</th>\n",
       "      <td>18</td>\n",
       "      <td>1.25</td>\n",
       "      <td>0.52</td>\n",
       "      <td>0.22</td>\n",
       "    </tr>\n",
       "    <tr>\n",
       "      <th>4</th>\n",
       "      <td>19</td>\n",
       "      <td>1.26</td>\n",
       "      <td>0.52</td>\n",
       "      <td>0.25</td>\n",
       "    </tr>\n",
       "    <tr>\n",
       "      <th>...</th>\n",
       "      <td>...</td>\n",
       "      <td>...</td>\n",
       "      <td>...</td>\n",
       "      <td>...</td>\n",
       "    </tr>\n",
       "    <tr>\n",
       "      <th>56</th>\n",
       "      <td>71</td>\n",
       "      <td>27.70</td>\n",
       "      <td>0.00</td>\n",
       "      <td>0.00</td>\n",
       "    </tr>\n",
       "    <tr>\n",
       "      <th>57</th>\n",
       "      <td>72</td>\n",
       "      <td>31.60</td>\n",
       "      <td>0.00</td>\n",
       "      <td>0.00</td>\n",
       "    </tr>\n",
       "    <tr>\n",
       "      <th>58</th>\n",
       "      <td>73</td>\n",
       "      <td>36.08</td>\n",
       "      <td>0.00</td>\n",
       "      <td>0.00</td>\n",
       "    </tr>\n",
       "    <tr>\n",
       "      <th>59</th>\n",
       "      <td>74</td>\n",
       "      <td>41.13</td>\n",
       "      <td>0.00</td>\n",
       "      <td>0.00</td>\n",
       "    </tr>\n",
       "    <tr>\n",
       "      <th>60</th>\n",
       "      <td>75</td>\n",
       "      <td>46.75</td>\n",
       "      <td>0.00</td>\n",
       "      <td>0.00</td>\n",
       "    </tr>\n",
       "  </tbody>\n",
       "</table>\n",
       "<p>61 rows × 4 columns</p>\n",
       "</div>"
      ],
      "text/plain": [
       "    Edad  Fallecimiento    MA  BPAI\n",
       "0     15           1.21  0.52  0.19\n",
       "1     16           1.21  0.52  0.19\n",
       "2     17           1.23  0.52  0.19\n",
       "3     18           1.25  0.52  0.22\n",
       "4     19           1.26  0.52  0.25\n",
       "..   ...            ...   ...   ...\n",
       "56    71          27.70  0.00  0.00\n",
       "57    72          31.60  0.00  0.00\n",
       "58    73          36.08  0.00  0.00\n",
       "59    74          41.13  0.00  0.00\n",
       "60    75          46.75  0.00  0.00\n",
       "\n",
       "[61 rows x 4 columns]"
      ]
     },
     "execution_count": 6,
     "metadata": {},
     "output_type": "execute_result"
    }
   ],
   "source": [
    "obtener_base_cuotas(ruta_cuotas, bucket_name)"
   ]
  },
  {
   "cell_type": "code",
   "execution_count": 7,
   "id": "efa97ab1",
   "metadata": {},
   "outputs": [
    {
     "data": {
      "application/vnd.microsoft.datawrangler.viewer.v0+json": {
       "columns": [
        {
         "name": "index",
         "rawType": "int64",
         "type": "integer"
        },
        {
         "name": "Poliza",
         "rawType": "int64",
         "type": "integer"
        },
        {
         "name": "InicioVigencia",
         "rawType": "datetime64[ns]",
         "type": "datetime"
        },
        {
         "name": "FinVigencia",
         "rawType": "datetime64[ns]",
         "type": "datetime"
        },
        {
         "name": "PrimaNeta",
         "rawType": "float64",
         "type": "float"
        },
        {
         "name": "Siniestralidad",
         "rawType": "float64",
         "type": "float"
        }
       ],
       "conversionMethod": "pd.DataFrame",
       "ref": "c6d3f632-bf63-425d-b1ab-82ae93014014",
       "rows": [
        [
         "0",
         "3300",
         "2025-04-21 00:00:00",
         "2025-12-31 00:00:00",
         "326036.9",
         "0.2"
        ],
        [
         "1",
         "3299",
         "2025-05-01 00:00:00",
         "2026-05-01 00:00:00",
         "20900000.0",
         "0.3"
        ],
        [
         "2",
         "3298",
         "2025-04-23 00:00:00",
         "2026-04-23 00:00:00",
         "2952382.48",
         "0.0"
        ],
        [
         "3",
         "3297",
         "2025-05-01 00:00:00",
         "2026-05-01 00:00:00",
         "1941687.43",
         "0.2"
        ],
        [
         "4",
         "3296",
         "2025-04-18 00:00:00",
         "2026-04-18 00:00:00",
         "389871.2",
         "1.0"
        ],
        [
         "5",
         "3295",
         "2025-02-06 00:00:00",
         "2026-02-06 00:00:00",
         "12784.0",
         "0.0"
        ],
        [
         "6",
         "3294",
         "2025-04-10 00:00:00",
         "2026-04-10 00:00:00",
         "591989.07",
         "0.0"
        ],
        [
         "7",
         "3293",
         "2025-04-01 00:00:00",
         "2025-12-31 00:00:00",
         "597112.85",
         "0.8"
        ],
        [
         "8",
         "3292",
         "2025-03-02 00:00:00",
         "2025-05-02 00:00:00",
         "798350.08",
         "0.3"
        ],
        [
         "9",
         "3291",
         "2025-03-13 00:00:00",
         "2025-12-31 00:00:00",
         "249941.05",
         "0.5"
        ],
        [
         "10",
         "3290",
         "2025-03-29 00:00:00",
         "2026-03-29 00:00:00",
         "1260939.3",
         "0.4"
        ],
        [
         "11",
         "3289",
         "2025-03-06 00:00:00",
         "2026-03-06 00:00:00",
         "70551.0",
         "0.5"
        ],
        [
         "12",
         "3288",
         "2025-02-25 00:00:00",
         "2025-12-31 00:00:00",
         "174700.14",
         "0.5"
        ],
        [
         "13",
         "3287",
         "2025-02-20 00:00:00",
         "2026-02-20 00:00:00",
         "127181.84",
         "0.2"
        ],
        [
         "14",
         "3286",
         "2025-02-28 00:00:00",
         "2026-02-28 00:00:00",
         "648517.3",
         "0.4"
        ],
        [
         "15",
         "3285",
         "2025-02-20 00:00:00",
         "2026-02-20 00:00:00",
         "125136.0",
         "0.0"
        ],
        [
         "16",
         "3284",
         "2025-01-24 00:00:00",
         "2026-01-24 00:00:00",
         "16759.0",
         "0.3"
        ],
        [
         "17",
         "3283",
         "2025-02-01 00:00:00",
         "2026-02-01 00:00:00",
         "590907.0",
         "0.3"
        ],
        [
         "18",
         "3282",
         "2025-01-31 00:00:00",
         "2026-01-31 00:00:00",
         "2302432.0",
         "0.3"
        ],
        [
         "19",
         "3281",
         "2025-01-31 00:00:00",
         "2026-01-31 00:00:00",
         "572160.75",
         "0.2"
        ],
        [
         "20",
         "3280",
         "2025-01-31 00:00:00",
         "2026-01-31 00:00:00",
         "16168374.39",
         "0.4"
        ],
        [
         "21",
         "3279",
         "2025-02-01 00:00:00",
         "2025-12-31 00:00:00",
         "18162273.89",
         "0.5"
        ],
        [
         "22",
         "3278",
         "2025-02-01 00:00:00",
         "2025-12-31 00:00:00",
         "1337531.79",
         "0.0"
        ],
        [
         "23",
         "3277",
         "2025-02-01 00:00:00",
         "2025-12-31 00:00:00",
         "655676.83",
         "0.6"
        ],
        [
         "24",
         "3276",
         "2025-02-01 00:00:00",
         "2025-12-31 00:00:00",
         "48990000.0",
         "0.0"
        ],
        [
         "25",
         "3275",
         "2025-02-01 00:00:00",
         "2026-02-01 00:00:00",
         "14859.5",
         "0.4"
        ],
        [
         "26",
         "3274",
         "2025-01-15 00:00:00",
         "2026-01-15 00:00:00",
         "13658.0",
         "0.0"
        ],
        [
         "27",
         "3270",
         "2025-01-01 00:00:00",
         "2026-01-01 00:00:00",
         "1947172.6",
         "0.0"
        ],
        [
         "28",
         "3269",
         "2025-01-01 00:00:00",
         "2025-12-31 00:00:00",
         "1264673.58",
         "0.4"
        ],
        [
         "29",
         "3268",
         "2025-01-01 00:00:00",
         "2025-03-21 00:00:00",
         "143337.25",
         "0.4"
        ],
        [
         "30",
         "3264",
         "2025-01-01 00:00:00",
         "2025-12-31 00:00:00",
         "497890.0",
         "0.5"
        ],
        [
         "31",
         "3194",
         "2025-04-01 00:00:00",
         "2026-04-01 00:00:00",
         "1539761.76",
         "0.9"
        ],
        [
         "32",
         "3178",
         "2025-02-01 00:00:00",
         "2025-02-28 00:00:00",
         "222919.34",
         "0.5"
        ],
        [
         "33",
         "3178",
         "2025-03-01 00:00:00",
         "2025-03-31 00:00:00",
         "222919.34",
         "0.0"
        ],
        [
         "34",
         "3173",
         "2025-04-01 00:00:00",
         "2025-12-31 00:00:00",
         "5118000.0",
         "0.5"
        ],
        [
         "35",
         "3154",
         "2025-01-19 00:00:00",
         "2026-01-19 00:00:00",
         "8327.78",
         "0.4"
        ],
        [
         "36",
         "3153",
         "2025-01-03 00:00:00",
         "2026-01-03 00:00:00",
         "43518.0",
         "0.3"
        ],
        [
         "37",
         "3151",
         "2025-01-08 00:00:00",
         "2026-01-08 00:00:00",
         "25191.0",
         "0.3"
        ],
        [
         "38",
         "3131",
         "2025-01-01 00:00:00",
         "2026-01-01 00:00:00",
         "528628.12",
         "1.0"
        ],
        [
         "39",
         "3124",
         "2025-03-01 00:00:00",
         "2026-03-01 00:00:00",
         "5089995.45",
         "0.3"
        ],
        [
         "40",
         "3065",
         "2025-04-19 00:00:00",
         "2026-04-19 00:00:00",
         "1460554.0",
         "0.5"
        ],
        [
         "41",
         "3055",
         "2025-03-22 00:00:00",
         "2026-03-22 00:00:00",
         "268278.0",
         "0.5"
        ],
        [
         "42",
         "3050",
         "2025-03-13 00:00:00",
         "2026-03-13 00:00:00",
         "123606.23",
         "0.4"
        ],
        [
         "43",
         "3046",
         "2025-02-10 00:00:00",
         "2026-02-10 00:00:00",
         "9704.0",
         "0.4"
        ],
        [
         "44",
         "3045",
         "2025-03-01 00:00:00",
         "2026-03-01 00:00:00",
         "86548.5",
         "0.4"
        ],
        [
         "45",
         "3045",
         "2025-03-01 00:00:00",
         "2026-03-01 00:00:00",
         "86548.5",
         "0.4"
        ],
        [
         "46",
         "3041",
         "2025-01-01 00:00:00",
         "2025-12-31 00:00:00",
         "14485.64",
         "0.3"
        ],
        [
         "47",
         "3038",
         "2025-03-11 00:00:00",
         "2026-03-11 00:00:00",
         "450667.54",
         "0.2"
        ],
        [
         "48",
         "3030",
         "2025-02-08 00:00:00",
         "2026-02-08 00:00:00",
         "3397676.71",
         "0.8"
        ],
        [
         "49",
         "3026",
         "2025-02-22 00:00:00",
         "2026-02-22 00:00:00",
         "457634.36",
         "0.9"
        ]
       ],
       "shape": {
        "columns": 5,
        "rows": 86
       }
      },
      "text/html": [
       "<div>\n",
       "<style scoped>\n",
       "    .dataframe tbody tr th:only-of-type {\n",
       "        vertical-align: middle;\n",
       "    }\n",
       "\n",
       "    .dataframe tbody tr th {\n",
       "        vertical-align: top;\n",
       "    }\n",
       "\n",
       "    .dataframe thead th {\n",
       "        text-align: right;\n",
       "    }\n",
       "</style>\n",
       "<table border=\"1\" class=\"dataframe\">\n",
       "  <thead>\n",
       "    <tr style=\"text-align: right;\">\n",
       "      <th></th>\n",
       "      <th>Poliza</th>\n",
       "      <th>InicioVigencia</th>\n",
       "      <th>FinVigencia</th>\n",
       "      <th>PrimaNeta</th>\n",
       "      <th>Siniestralidad</th>\n",
       "    </tr>\n",
       "  </thead>\n",
       "  <tbody>\n",
       "    <tr>\n",
       "      <th>0</th>\n",
       "      <td>3300</td>\n",
       "      <td>2025-04-21</td>\n",
       "      <td>2025-12-31</td>\n",
       "      <td>326036.90</td>\n",
       "      <td>0.2</td>\n",
       "    </tr>\n",
       "    <tr>\n",
       "      <th>1</th>\n",
       "      <td>3299</td>\n",
       "      <td>2025-05-01</td>\n",
       "      <td>2026-05-01</td>\n",
       "      <td>20900000.00</td>\n",
       "      <td>0.3</td>\n",
       "    </tr>\n",
       "    <tr>\n",
       "      <th>2</th>\n",
       "      <td>3298</td>\n",
       "      <td>2025-04-23</td>\n",
       "      <td>2026-04-23</td>\n",
       "      <td>2952382.48</td>\n",
       "      <td>0.0</td>\n",
       "    </tr>\n",
       "    <tr>\n",
       "      <th>3</th>\n",
       "      <td>3297</td>\n",
       "      <td>2025-05-01</td>\n",
       "      <td>2026-05-01</td>\n",
       "      <td>1941687.43</td>\n",
       "      <td>0.2</td>\n",
       "    </tr>\n",
       "    <tr>\n",
       "      <th>4</th>\n",
       "      <td>3296</td>\n",
       "      <td>2025-04-18</td>\n",
       "      <td>2026-04-18</td>\n",
       "      <td>389871.20</td>\n",
       "      <td>1.0</td>\n",
       "    </tr>\n",
       "    <tr>\n",
       "      <th>...</th>\n",
       "      <td>...</td>\n",
       "      <td>...</td>\n",
       "      <td>...</td>\n",
       "      <td>...</td>\n",
       "      <td>...</td>\n",
       "    </tr>\n",
       "    <tr>\n",
       "      <th>81</th>\n",
       "      <td>857</td>\n",
       "      <td>2025-04-21</td>\n",
       "      <td>2026-04-21</td>\n",
       "      <td>208153.50</td>\n",
       "      <td>0.9</td>\n",
       "    </tr>\n",
       "    <tr>\n",
       "      <th>82</th>\n",
       "      <td>537</td>\n",
       "      <td>2025-02-07</td>\n",
       "      <td>2026-02-07</td>\n",
       "      <td>98936.50</td>\n",
       "      <td>0.3</td>\n",
       "    </tr>\n",
       "    <tr>\n",
       "      <th>83</th>\n",
       "      <td>341</td>\n",
       "      <td>2025-02-15</td>\n",
       "      <td>2026-02-15</td>\n",
       "      <td>17483.00</td>\n",
       "      <td>0.6</td>\n",
       "    </tr>\n",
       "    <tr>\n",
       "      <th>84</th>\n",
       "      <td>260</td>\n",
       "      <td>2025-07-01</td>\n",
       "      <td>2026-07-01</td>\n",
       "      <td>50000.00</td>\n",
       "      <td>0.3</td>\n",
       "    </tr>\n",
       "    <tr>\n",
       "      <th>85</th>\n",
       "      <td>253</td>\n",
       "      <td>2025-05-31</td>\n",
       "      <td>2026-05-31</td>\n",
       "      <td>60000.00</td>\n",
       "      <td>0.7</td>\n",
       "    </tr>\n",
       "  </tbody>\n",
       "</table>\n",
       "<p>86 rows × 5 columns</p>\n",
       "</div>"
      ],
      "text/plain": [
       "    Poliza InicioVigencia FinVigencia    PrimaNeta  Siniestralidad\n",
       "0     3300     2025-04-21  2025-12-31    326036.90             0.2\n",
       "1     3299     2025-05-01  2026-05-01  20900000.00             0.3\n",
       "2     3298     2025-04-23  2026-04-23   2952382.48             0.0\n",
       "3     3297     2025-05-01  2026-05-01   1941687.43             0.2\n",
       "4     3296     2025-04-18  2026-04-18    389871.20             1.0\n",
       "..     ...            ...         ...          ...             ...\n",
       "81     857     2025-04-21  2026-04-21    208153.50             0.9\n",
       "82     537     2025-02-07  2026-02-07     98936.50             0.3\n",
       "83     341     2025-02-15  2026-02-15     17483.00             0.6\n",
       "84     260     2025-07-01  2026-07-01     50000.00             0.3\n",
       "85     253     2025-05-31  2026-05-31     60000.00             0.7\n",
       "\n",
       "[86 rows x 5 columns]"
      ]
     },
     "execution_count": 7,
     "metadata": {},
     "output_type": "execute_result"
    }
   ],
   "source": [
    "obtener_base_emisiones(ruta_emisiones, bucket_name)"
   ]
  },
  {
   "cell_type": "code",
   "execution_count": 10,
   "id": "de9622e6",
   "metadata": {},
   "outputs": [
    {
     "data": {
      "text/plain": [
       "557"
      ]
     },
     "execution_count": 10,
     "metadata": {},
     "output_type": "execute_result"
    }
   ],
   "source": [
    "len(obtener_base_historico(ruta_historico_cotizaciones, bucket_name))"
   ]
  },
  {
   "cell_type": "code",
   "execution_count": null,
   "id": "6cbd27c6",
   "metadata": {},
   "outputs": [],
   "source": [
    "MESES = {\n",
    "    1: \"Enero\", 2: \"Febrero\", 3: \"Marzo\", 4: \"Abril\",\n",
    "    5: \"Mayo\", 6: \"Junio\", 7: \"Julio\", 8: \"Agosto\", \n",
    "    9: \"Septiembre\", 10: \"Octubre\", 11: \"Noviembre\", 12: \"Diciembre\"\n",
    "}\n",
    "\n",
    "RECARGOS_FORMA_PAGO = {\n",
    "    \"anual\": {\"rpf\": 0.0, \"num_recibos\": 1},\n",
    "    \"semestral\": {\"rpf\": 0.037, \"num_recibos\": 2},\n",
    "    \"trimestral\": {\"rpf\": 0.055, \"num_recibos\": 4},\n",
    "    \"mensual\": {\"rpf\": 0.065, \"num_recibos\": 12}\n",
    "}\n",
    "\n",
    "DESCUENTOS_COMISION = {\n",
    "    0.20: 0.00, 0.19: 0.02, 0.18: 0.03, 0.17: 0.04, 0.16: 0.06,\n",
    "    0.15: 0.07, 0.14: 0.09, 0.13: 0.10, 0.12: 0.12, 0.11: 0.13,\n",
    "    0.10: 0.15, 0.09: 0.16, 0.08: 0.18, 0.07: 0.19, 0.06: 0.21, 0.05: 0.22\n",
    "}\n",
    "\n",
    "def obtener_nombre_mes(fecha):\n",
    "    \"\"\"\n",
    "    Función que convierte fecha a nombre del mes en español\n",
    "    \n",
    "    Parameters:\n",
    "        fecha: Fecha en formato datetime o string\n",
    "        \n",
    "    Returns:\n",
    "        str: Nombre del mes en español\n",
    "    \"\"\"\n",
    "    mes_numero = pd.to_datetime(fecha).month\n",
    "    return MESES[mes_numero]\n",
    "\n",
    "\n",
    "def obtener_parametros_forma_pago(forma_pago):\n",
    "    \"\"\"\n",
    "    Obtiene RPF y número de recibos según forma de pago\n",
    "    \n",
    "    Parameters:\n",
    "        forma_pago (str): Forma de pago (Anual, Semestral, Trimestral, Mensual)\n",
    "        \n",
    "    Returns:\n",
    "        dict: Diccionario con 'rpf' y 'num_recibos'\n",
    "    \"\"\"\n",
    "    return RECARGOS_FORMA_PAGO.get(forma_pago.lower(), RECARGOS_FORMA_PAGO[\"anual\"])\n",
    "\n",
    "\n",
    "def obtener_descuento_comision(comision):\n",
    "    \"\"\"\n",
    "    Obtiene descuento según nivel de comisión\n",
    "    \n",
    "    Parameters:\n",
    "        comision (float): Nivel de comisión (0.05 a 0.20)\n",
    "        \n",
    "    Returns:\n",
    "        float: Descuento correspondiente\n",
    "    \"\"\"\n",
    "    return DESCUENTOS_COMISION.get(comision, 0.0)\n",
    "\n",
    "\n",
    "def obtener_nombre_cobertura(codigo_cobertura):\n",
    "    \"\"\"\n",
    "    Convierte código de cobertura a nombre completo\n",
    "    \n",
    "    Parameters:\n",
    "        codigo_cobertura (str): Código de cobertura (F, FMA, FBPAI, FMABPAI)\n",
    "        \n",
    "    Returns:\n",
    "        str: Nombre completo de la cobertura\n",
    "    \"\"\"\n",
    "    coberturas_map = {\n",
    "        \"F\": \"FALLECIMIENTO\",\n",
    "        \"FMA\": \"FALLECIMIENTO Y MUERTE ACCIDENTAL\",\n",
    "        \"FBPAI\": \"FALLECIMIENTO E INVALIDEZ TOTAL\",\n",
    "        \"FMABPAI\": \"FALLECIMIENTO, MUERTE ACCIDENTAL E INVALIDEZ TOTAL\"\n",
    "    }\n",
    "    return coberturas_map.get(codigo_cobertura, codigo_cobertura)\n"
   ]
  },
  {
   "cell_type": "code",
   "execution_count": null,
   "id": "27dac8b3-1268-4984-b160-ea4e56484018",
   "metadata": {},
   "outputs": [],
   "source": [
    "def prima_experiencia_global(ruta_carpeta_base_datos:str, \n",
    "                             ruta_archivo_parametros:str, \n",
    "                             ruta_cuotas:str, \n",
    "                             ruta_carpeta_calculos:str, \n",
    "                             ruta_emisiones:str, \n",
    "                             ruta_historico_cotizaciones:str, \n",
    "                             nombre_bucket:str):\n",
    "    s3 = boto3.client(\"s3\")\n",
    "\n",
    "    # Cargamos bases de datos\n",
    "    lista_archivos_base_datos = obtener_lista_nombre_bases(ruta_carpeta_base_datos, nombre_bucket) # Lista de archivos de bases de datos\n",
    "    df_parametros = obtener_base_parametros(ruta_archivo_parametros, nombre_bucket) # df con párametros de cotización\n",
    "    df_cuotas = obtener_base_cuotas(ruta_cuotas, nombre_bucket) # df con cuotas al millar\n",
    "    df_emisiones = obtener_base_emisiones(ruta_emisiones, nombre_bucket) # df con emisiones\n",
    "    df_hist_cotizaciones = obtener_base_historico(ruta_historico_cotizaciones, nombre_bucket) # df con histórico de cotizaciones\n",
    "\n",
    "    cotizacion = {\n",
    "        \"Contratante\": [],\n",
    "        \"Coberturas\": [],\n",
    "        \"SumaAsegurada\": [],\n",
    "        \"Administracion\": [],\n",
    "        \"Agente\": [],\n",
    "        \"Comision\": [],\n",
    "        \"FormaPago\": [],\n",
    "        \"Inicio\": [],\n",
    "        \"Fin\": [],\n",
    "        \"Renovacion\": [],\n",
    "        \"Poliza\": [],\n",
    "        \"Prima\": [],\n",
    "        \"EdadPromedio\": [],\n",
    "        \"SAMI\": [],\n",
    "        \"Asegurados\": [],\n",
    "        \"Ticket\": [],\n",
    "        \"Mes\": [],\n",
    "        \"Oficina\": [],\n",
    "        \"Evento\": []\n",
    "    }\n",
    "\n",
    "    MESES ={\n",
    "        1: \"Enero\",\n",
    "        2: \"Febrero\",\n",
    "        3: \"Marzo\",\n",
    "        4: \"Abril\",\n",
    "        5: \"Mayo\",\n",
    "        6: \"Junio\",\n",
    "        7: \"Julio\",\n",
    "        8: \"Agosto\",\n",
    "        9: \"Septiembre\",\n",
    "        10: \"Octubre\",\n",
    "        11: \"Noviembre\",\n",
    "        12: \"Diciembre\"\n",
    "    }\n",
    "    \n",
    "    for j in range(0,len(df_parametros)):\n",
    "        \n",
    "        ruta_base_datos_asegurados = \"\"\n",
    "        ruta_guardar_calculo = \"\"\n",
    "        rpf = 0\n",
    "        desc = 0\n",
    "        prima = 0\n",
    "        ticket = len(df_hist_cotizaciones) + j + 1\n",
    "        \n",
    "        cotizacion[\"Contratante\"].append(df_parametros[\"Contratante\"][j])\n",
    "        cotizacion[\"Coberturas\"].append(df_parametros[\"Coberturas\"][j])\n",
    "        cotizacion[\"SumaAsegurada\"].append(df_parametros[\"SumaAsegurada\"][j])\n",
    "        cotizacion[\"Administracion\"].append(df_parametros[\"Administracion\"][j])\n",
    "        cotizacion[\"Agente\"].append(df_parametros[\"Agente\"][j])\n",
    "        cotizacion[\"Comision\"].append(df_parametros[\"Comision\"][j])\n",
    "        cotizacion[\"FormaPago\"].append(df_parametros[\"FormaPago\"][j])\n",
    "        cotizacion[\"Inicio\"].append(df_parametros[\"Inicio\"][j])\n",
    "        cotizacion[\"Fin\"].append(df_parametros[\"Fin\"][j])\n",
    "        cotizacion[\"Renovacion\"].append(df_parametros[\"Renovacion\"][j])\n",
    "        cotizacion[\"Poliza\"].append(df_parametros[\"Poliza\"][j])\n",
    "        cotizacion[\"Ticket\"].append(ticket)\n",
    "        cotizacion[\"Oficina\"].append(df_parametros[\"Oficina\"][j])\n",
    "\n",
    "        mes_numero = pd.to_datetime(df_parametros[\"Inicio\"][j]).month\n",
    "        mes = MESES[mes_numero]  # Usar el diccionario para obtener el nombre del mes\n",
    "        cotizacion[\"Mes\"].append(mes)\n",
    "\n",
    "        ruta_base_datos_asegurados = lista_archivos_base_datos[j]\n",
    "\n",
    "        #Carga de la base de datos de asegurados\n",
    "        response = s3.get_object(Bucket=nombre_bucket, Key=ruta_base_datos_asegurados)\n",
    "        content = response['Body'].read()\n",
    "        df_calculo = pd.read_excel(BytesIO(content), engine='openpyxl')\n",
    "        \n",
    "        fecha_corte = pd.to_datetime(df_parametros[\"Inicio\"][j])\n",
    "        df_calculo[\"Edad\"] = df_calculo[\"Fecha de Nacimiento\"].apply(lambda x: calcular_edad(x, fecha_corte))\n",
    "\n",
    "        if df_parametros[\"FormaPago\"][j] == \"Anual\".lower():\n",
    "            rpf = 0\n",
    "            num_recibos = 1\n",
    "        elif df_parametros[\"FormaPago\"][j] == \"Semestral\".lower():\n",
    "            rpf = 0.037\n",
    "            num_recibos = 2\n",
    "        elif df_parametros[\"FormaPago\"][j] == \"Trimestral\".lower():\n",
    "            rpf = 0.055\n",
    "            num_recibos = 4\n",
    "        elif df_parametros[\"FormaPago\"][j] == \"Mensual\".lower():\n",
    "            rpf = 0.065\n",
    "            num_recibos = 12\n",
    "\n",
    "        if df_parametros[\"Comision\"][j] == .2:\n",
    "            desc = 0\n",
    "        elif df_parametros[\"Comision\"][j] == .19:\n",
    "            desc = 0.02\n",
    "        elif df_parametros[\"Comision\"][j] == .18:\n",
    "            desc = 0.03\n",
    "        elif df_parametros[\"Comision\"][j] == .17:\n",
    "            desc = 0.04\n",
    "        elif df_parametros[\"Comision\"][j] == .16:\n",
    "            desc = 0.06\n",
    "        elif df_parametros[\"Comision\"][j] == .15:\n",
    "            desc = 0.07\n",
    "        elif df_parametros[\"Comision\"][j] == .14:\n",
    "            desc = 0.09\n",
    "        elif df_parametros[\"Comision\"][j] == .13:\n",
    "            desc = 0.10\n",
    "        elif df_parametros[\"Comision\"][j] == .12:\n",
    "            desc = 0.12\n",
    "        elif df_parametros[\"Comision\"][j] == .11:\n",
    "            desc = 0.13\n",
    "        elif df_parametros[\"Comision\"][j] == .10:\n",
    "            desc = 0.15\n",
    "        elif df_parametros[\"Comision\"][j] == .09:\n",
    "            desc = 0.16\n",
    "        elif df_parametros[\"Comision\"][j] == .08:\n",
    "            desc = 0.18\n",
    "        elif df_parametros[\"Comision\"][j] == .07:\n",
    "            desc = 0.19\n",
    "        elif df_parametros[\"Comision\"][j] == .06:\n",
    "            desc = 0.21\n",
    "        elif df_parametros[\"Comision\"][j] == .05:\n",
    "            desc = 0.22\n",
    "\n",
    "        if df_parametros[\"Coberturas\"][j] == \"F\":\n",
    "            df_calculo = df_calculo.merge(df_cuotas[[\"Edad\",\"Fallecimiento\"]], on=\"Edad\", how=\"left\")\n",
    "            df_calculo[\"Fallecimiento\"] = df_calculo[\"Fallecimiento\"]*(1-desc)*(1+rpf)*df_parametros[\"SumaAsegurada\"][j]/1000\n",
    "            prima = df_calculo[\"Fallecimiento\"].sum()\n",
    "        elif df_parametros[\"Coberturas\"][j] == \"FMA\":\n",
    "            df_calculo = df_calculo.merge(df_cuotas[[\"Edad\",\"Fallecimiento\",\"MA\"]], on=\"Edad\", how=\"left\")\n",
    "            df_calculo[\"Fallecimiento\"] = df_calculo[\"Fallecimiento\"]*(1-desc)*(1+rpf)*df_parametros[\"SumaAsegurada\"][j]/1000\n",
    "            df_calculo[\"MA\"] = df_calculo[\"MA\"]*(1-desc)*(1+rpf)*df_parametros[\"SumaAsegurada\"][j]/1000\n",
    "            prima = df_calculo[\"Fallecimiento\"].sum()+df_calculo[\"MA\"].sum()\n",
    "        elif df_parametros[\"Coberturas\"][j] == \"FBPAI\":\n",
    "            df_calculo = df_calculo.merge(df_cuotas[[\"Edad\",\"Fallecimiento\",\"BPAI\"]], on=\"Edad\", how=\"left\")\n",
    "            df_calculo[\"Fallecimiento\"] = df_calculo[\"Fallecimiento\"]*(1-desc)*(1+rpf)*df_parametros[\"SumaAsegurada\"][j]/1000\n",
    "            df_calculo[\"BPAI\"] = df_calculo[\"BPAI\"]*(1-desc)*(1+rpf)*df_parametros[\"SumaAsegurada\"][j]/1000\n",
    "            prima = df_calculo[\"Fallecimiento\"].sum()+df_calculo[\"BPAI\"].sum()\n",
    "        elif df_parametros[\"Coberturas\"][j] == \"FMABPAI\":\n",
    "            df_calculo = df_calculo.merge(df_cuotas, on=\"Edad\", how=\"left\")\n",
    "            df_calculo[\"Fallecimiento\"] = df_calculo[\"Fallecimiento\"]*(1-desc)*(1+rpf)*df_parametros[\"SumaAsegurada\"][j]/1000\n",
    "            df_calculo[\"MA\"] = df_calculo[\"MA\"]*(1-desc)*(1+rpf)*df_parametros[\"SumaAsegurada\"][j]/1000\n",
    "            df_calculo[\"BPAI\"] = df_calculo[\"BPAI\"]*(1-desc)*(1+rpf)*df_parametros[\"SumaAsegurada\"][j]/1000\n",
    "            prima = df_calculo[\"Fallecimiento\"].sum()+df_calculo[\"BPAI\"].sum()+df_calculo[\"MA\"].sum()\n",
    "\n",
    "        if df_parametros[\"Renovacion\"][j] == \"Si\":\n",
    "            siniestralidad = df_emisiones.loc[df_emisiones[\"Poliza\"] == df_parametros[\"Poliza\"][j], \"Siniestralidad\"].values[0]\n",
    "            \n",
    "            if siniestralidad < 0.50:\n",
    "                cotizacion[\"Prima\"].append(prima)\n",
    "                cotizacion[\"Evento\"].append(\"na\")\n",
    "            else:\n",
    "                cotizacion[\"Prima\"].append(\"La siniestralidad está desviada, consulte a un suscriptor\")\n",
    "                cotizacion[\"Evento\"].append(\"Fuera de política\")\n",
    "                prima = \"La siniestralidad está desviada, consulte a un suscriptor\"\n",
    "            \n",
    "        else:\n",
    "            cotizacion[\"Prima\"].append(prima)\n",
    "            cotizacion[\"Evento\"].append(\"na\")            \n",
    "            \n",
    "            \n",
    "        cotizacion[\"EdadPromedio\"].append(df_calculo[\"Edad\"].mean())\n",
    "        cotizacion[\"SAMI\"].append(df_parametros[\"SumaAsegurada\"][j])\n",
    "        cotizacion[\"Asegurados\"].append(df_calculo[\"Edad\"].count())\n",
    "\n",
    "        #Guardar base de datos con el calculo de la prima\n",
    "        file_key = ruta_carpeta_calculos + df_parametros[\"Contratante\"][j] + \".xlsx\"\n",
    "                # Convertir el DataFrame a un archivo Excel en memoria\n",
    "        buffer = BytesIO()\n",
    "        df_calculo.to_excel(buffer, index=False, engine='openpyxl')\n",
    "        buffer.seek(0)  # volver al inicio del buffer\n",
    "                # Subir el archivo al bucket\n",
    "        s3.upload_fileobj(buffer, nombre_bucket, file_key)\n",
    "\n",
    "        #Creación pdf\n",
    "        bucket_name = nombre_bucket\n",
    "        imagen_s3_key = \"coco/logo_SegurosDelValle.png\"\n",
    "        pdf_s3_key = \"coco/solicitudes/formatos_pdf/\" + df_parametros[\"Contratante\"][j] + \".pdf\"\n",
    "        imagen_buffer = BytesIO()\n",
    "        s3.download_fileobj(bucket_name, imagen_s3_key, imagen_buffer)   #Carga del logo\n",
    "        imagen_buffer.seek(0)\n",
    "        pdf_buffer = BytesIO()   # Crear PDF en memoria\n",
    "        c = canvas.Canvas(pdf_buffer)\n",
    "        # Campos variables del pdf\n",
    "        contratante = df_parametros[\"Contratante\"][j]\n",
    "        if df_parametros[\"Coberturas\"][j] == \"F\":\n",
    "            coberturas = \"FALLECIMIENTO\"\n",
    "        elif df_parametros[\"Coberturas\"][j] == \"FMA\":\n",
    "            coberturas = \"FALLECIMIENTO Y MUERTE ACCIDENTAL\"\n",
    "        elif df_parametros[\"Coberturas\"][j] == \"FBPAI\":\n",
    "            coberturas = \"FALLECIMIENTO E INVALIDEZ TOTAL\"\n",
    "        elif df_parametros[\"Coberturas\"][j] == \"FMABPAI\":\n",
    "            coberturas = \"FALLECIMIENTO, MUERTE ACCIDENTAL E INVALIDEZ TOTAL\"\n",
    "        suma_asegurada = df_parametros[\"SumaAsegurada\"][j]\n",
    "        edad_promedio = df_calculo[\"Edad\"].mean()\n",
    "        administracion = df_parametros[\"Administracion\"][j]\n",
    "        SAMI = df_parametros[\"SumaAsegurada\"][j]\n",
    "        agente = df_parametros[\"Agente\"][j]\n",
    "        vigencia = str(df_parametros[\"Inicio\"][j]) + \"-\" + str(df_parametros[\"Fin\"][j])\n",
    "        #prima = prima\n",
    "        forma_pago = df_parametros[\"FormaPago\"][j]\n",
    "        asegurados = df_calculo[\"Edad\"].count()\n",
    "        # Insertar imagen en la parte superior izquierda (ajustar tamaño/posición si es necesario)\n",
    "        imagen = ImageReader(imagen_buffer)\n",
    "        c.drawImage(imagen, x=30, y=740, width=200, height=75)\n",
    "        # Agregar texto\n",
    "        c.drawString(50, 700, \"DESGLOSE DE ESTUDIO DE SEGURO DE VIDA GRUPO\")\n",
    "        c.drawString(50, 685, f\"CONTRATANTE: {contratante}\")\n",
    "        c.drawString(50, 670, f\"COBERTURAS: {coberturas}\")\n",
    "        c.drawString(50, 655, f\"SUMA ASEGURADA: $ {suma_asegurada:,.2f}\")\n",
    "        c.drawString(50, 640, f\"EDAD PROMEDIO: {edad_promedio}\")\n",
    "        c.drawString(50, 625, f\"SISTEMA DE ADMINISTRACIÓN: {administracion}\")\n",
    "        c.drawString(50, 610, f\"SAMI: $ {SAMI:,.2f}\")\n",
    "        c.drawString(50, 595, \"CONTRIBUTORIO: NO CONTRIBUTORIO\")\n",
    "        c.drawString(50, 580, \"DIVIDENDOS: SIN DIVIDENDOS\")\n",
    "        c.drawString(50, 565, f\"AGENTE: {agente}\")\n",
    "        c.drawString(50, 550, f\"VIGENCIA: {vigencia}\")\n",
    "        if isinstance(prima, str):\n",
    "            c.drawString(50, 535, f\"PRIMA:  {prima}\")\n",
    "        else:\n",
    "            c.drawString(50, 535, f\"PRIMA: $ {prima:,.2f}\")\n",
    "        c.drawString(50, 520, f\"FORMA DE PAGO: {forma_pago}\")\n",
    "        if isinstance(prima, str):\n",
    "            c.drawString(50, 505, f\"PRIMA:  {prima}\")\n",
    "        else:\n",
    "            c.drawString(50, 505, f\"PRIMER RECIBO Y SUBSECUENTES: $ {prima/num_recibos:,.2f}\")\n",
    "        c.drawString(50, 490, f\"ASEGURADOS: {asegurados}\")\n",
    "        c.drawString(50, 475, \"EDAD DE ACEPTACIÓN PARA LA COBERTURA DE FALLECIMIENTO: HASTA 75 AÑOS\")\n",
    "        c.drawString(50, 460, \"EDAD DE ACEPTACIÓN PARA LA COBERTURA DE MUERTE ACCIDENTAL: HASTA 69 AÑOS\")\n",
    "        c.drawString(50, 445, \"EDAD DE ACEPTACIÓN PARA LA COBERTURA DE INVALIDEZ TOTAL: HASTA 64 AÑOS\")\n",
    "        c.drawString(50, 415, \"ESTA COTIZACIÓN NO REPRESENTA COMPROMISO DE COBERTURA ALGUNA Y TIENE\")\n",
    "        c.drawString(50, 403, \"VIGENCIA DE 30 DÍAS A PARTIR DE LA FECHA QUE ES RECIBIDA\")\n",
    "        c.drawString(50, 385, \"RECARGO POR PAGO FRACCIONADO (MENSUAL: 6.5%, TRIMESTRAL: 5.5% Y\")\n",
    "        c.drawString(50, 373, \"SEMESTRAL: 3.7%)\")\n",
    "        c.drawString(50, 343, \"SEGUROS DEL VALLE, S. A., CON DOMICILIO EN AV. RÍO HONDO, NO. 1, COL. ALTAVISTA,\")\n",
    "        c.drawString(50, 331, \"CP 08000, ALCALDÍA BENITO JUÁREZ, CDMX PONE A SU DISPOSICIÓN SU AVISO DE\")\n",
    "        c.drawString(50, 319, \"PRIVACIDAD INTEGRAL EN LA PÁGINA WEB WWW.SEGUROSDELVALLE.COM.MX Y LE\")\n",
    "        c.drawString(50, 307, \"INFORMA QUE SUS DATOS ESTÁN PROTEGIDOS Y SON UTILIZADOS SOLO PARA REGULAR\")\n",
    "        c.drawString(50, 295, \"LOS DERECHOS Y OBLIGACIONES QUE SURGEN DE LA CELEBRACIÓN DE SU CONTRATO\")\n",
    "        c.drawString(50, 283, \"DE SEGURO.\")\n",
    "        # Finalizar y preparar el buffer\n",
    "        c.save()\n",
    "        pdf_buffer.seek(0)\n",
    "        # Subir PDF generado a S3\n",
    "        s3.upload_fileobj(pdf_buffer, bucket_name, pdf_s3_key)\n",
    "        print(\"✅ PDF subido exitosamente a:\", f\"s3://{bucket_name}/{pdf_s3_key}\")\n",
    "\n",
    "    complemento_hist_cotizaciones = pd.DataFrame({\n",
    "        \"Ticket\": cotizacion[\"Ticket\"],\n",
    "        \"Fecha de Inicio\": cotizacion[\"Inicio\"],\n",
    "        \"Mes\": cotizacion[\"Mes\"],\n",
    "        \"Oficina\": cotizacion[\"Oficina\"],\n",
    "        \"Contratante\": cotizacion[\"Contratante\"],\n",
    "        \"Agente\": cotizacion[\"Agente\"],\n",
    "        \"Prima\": cotizacion[\"Prima\"],\n",
    "        \"Evento\": cotizacion[\"Evento\"],\n",
    "        \"Tipo\": cotizacion[\"Renovacion\"],\n",
    "        \n",
    "    })\n",
    "\n",
    "    complemento_hist_cotizaciones[\"Tipo\"] = complemento_hist_cotizaciones[\"Tipo\"].replace({\n",
    "    \"Si\": \"renovación\",\n",
    "    \"No\": \"nuevo\"\n",
    "    })\n",
    "\n",
    "    complemento_hist_cotizaciones[\"Prima\"] = complemento_hist_cotizaciones[\"Prima\"].replace({\n",
    "    \"La siniestralidad está desviada, consulte a un suscriptor\": 0\n",
    "    })\n",
    "\n",
    "    #Agregamos el data frame en la parte inferior del archivo cotizaciones\n",
    "    file_key = ruta_historico_cotizaciones\n",
    "    response = s3.get_object(Bucket=nombre_bucket, Key=file_key)\n",
    "    content = response['Body'].read()\n",
    "    df_hist_cotizaciones = pd.read_excel(BytesIO(content), engine=\"openpyxl\")\n",
    "    df_completo = pd.concat([df_hist_cotizaciones, complemento_hist_cotizaciones], ignore_index=True)\n",
    "    buffer = BytesIO()\n",
    "    df_completo.to_excel(buffer, index=False, engine='openpyxl')\n",
    "    buffer.seek(0)\n",
    "    s3.upload_fileobj(buffer, nombre_bucket, file_key)\n"
   ]
  },
  {
   "cell_type": "code",
   "execution_count": 7,
   "id": "89d7b05c-bcf0-4a0e-b519-7649eb1b673a",
   "metadata": {},
   "outputs": [
    {
     "name": "stdout",
     "output_type": "stream",
     "text": [
      "No se encontraron archivos en esa carpeta.\n"
     ]
    },
    {
     "ename": "NoSuchKey",
     "evalue": "An error occurred (NoSuchKey) when calling the GetObject operation: The specified key does not exist.",
     "output_type": "error",
     "traceback": [
      "\u001b[0;31m---------------------------------------------------------------------------\u001b[0m",
      "\u001b[0;31mNoSuchKey\u001b[0m                                 Traceback (most recent call last)",
      "Cell \u001b[0;32mIn[7], line 1\u001b[0m\n\u001b[0;32m----> 1\u001b[0m \u001b[43mprima_experiencia_global\u001b[49m\u001b[43m(\u001b[49m\u001b[43mruta_carpeta_base_datos\u001b[49m\u001b[43m,\u001b[49m\u001b[43m \u001b[49m\u001b[43mruta_archivo_parametros\u001b[49m\u001b[43m,\u001b[49m\u001b[43m \u001b[49m\u001b[43mruta_cuotas\u001b[49m\u001b[43m,\u001b[49m\u001b[43m \u001b[49m\u001b[43mruta_carpeta_calculos\u001b[49m\u001b[43m,\u001b[49m\u001b[43m \u001b[49m\u001b[43mruta_emisiones\u001b[49m\u001b[43m,\u001b[49m\u001b[43m \u001b[49m\u001b[43mruta_historico_cotizaciones\u001b[49m\u001b[43m,\u001b[49m\u001b[43m \u001b[49m\u001b[43mnombre_bucket\u001b[49m\u001b[43m)\u001b[49m\n",
      "Cell \u001b[0;32mIn[6], line 15\u001b[0m, in \u001b[0;36mprima_experiencia_global\u001b[0;34m(ruta_carpeta_base_datos, ruta_archivo_parametros, ruta_cuotas, ruta_carpeta_calculos, ruta_emisiones, ruta_historico_cotizaciones, nombre_bucket)\u001b[0m\n\u001b[1;32m     12\u001b[0m     \u001b[38;5;28mprint\u001b[39m(\u001b[38;5;124m\"\u001b[39m\u001b[38;5;124mNo se encontraron archivos en esa carpeta.\u001b[39m\u001b[38;5;124m\"\u001b[39m)\n\u001b[1;32m     14\u001b[0m \u001b[38;5;66;03m#Se carga base de datos que contiene los parametros de las cotizaciones.\u001b[39;00m\n\u001b[0;32m---> 15\u001b[0m response \u001b[38;5;241m=\u001b[39m \u001b[43ms3\u001b[49m\u001b[38;5;241;43m.\u001b[39;49m\u001b[43mget_object\u001b[49m\u001b[43m(\u001b[49m\u001b[43mBucket\u001b[49m\u001b[38;5;241;43m=\u001b[39;49m\u001b[43mnombre_bucket\u001b[49m\u001b[43m,\u001b[49m\u001b[43m \u001b[49m\u001b[43mKey\u001b[49m\u001b[38;5;241;43m=\u001b[39;49m\u001b[43mruta_archivo_parametros\u001b[49m\u001b[43m)\u001b[49m\n\u001b[1;32m     16\u001b[0m content \u001b[38;5;241m=\u001b[39m response[\u001b[38;5;124m'\u001b[39m\u001b[38;5;124mBody\u001b[39m\u001b[38;5;124m'\u001b[39m]\u001b[38;5;241m.\u001b[39mread()\n\u001b[1;32m     17\u001b[0m parametros \u001b[38;5;241m=\u001b[39m pd\u001b[38;5;241m.\u001b[39mread_excel(BytesIO(content), engine\u001b[38;5;241m=\u001b[39m\u001b[38;5;124m'\u001b[39m\u001b[38;5;124mopenpyxl\u001b[39m\u001b[38;5;124m'\u001b[39m)\n",
      "File \u001b[0;32m~/miniconda3/envs/arquitectura/lib/python3.11/site-packages/botocore/client.py:569\u001b[0m, in \u001b[0;36mClientCreator._create_api_method.<locals>._api_call\u001b[0;34m(self, *args, **kwargs)\u001b[0m\n\u001b[1;32m    565\u001b[0m     \u001b[38;5;28;01mraise\u001b[39;00m \u001b[38;5;167;01mTypeError\u001b[39;00m(\n\u001b[1;32m    566\u001b[0m         \u001b[38;5;124mf\u001b[39m\u001b[38;5;124m\"\u001b[39m\u001b[38;5;132;01m{\u001b[39;00mpy_operation_name\u001b[38;5;132;01m}\u001b[39;00m\u001b[38;5;124m() only accepts keyword arguments.\u001b[39m\u001b[38;5;124m\"\u001b[39m\n\u001b[1;32m    567\u001b[0m     )\n\u001b[1;32m    568\u001b[0m \u001b[38;5;66;03m# The \"self\" in this scope is referring to the BaseClient.\u001b[39;00m\n\u001b[0;32m--> 569\u001b[0m \u001b[38;5;28;01mreturn\u001b[39;00m \u001b[38;5;28;43mself\u001b[39;49m\u001b[38;5;241;43m.\u001b[39;49m\u001b[43m_make_api_call\u001b[49m\u001b[43m(\u001b[49m\u001b[43moperation_name\u001b[49m\u001b[43m,\u001b[49m\u001b[43m \u001b[49m\u001b[43mkwargs\u001b[49m\u001b[43m)\u001b[49m\n",
      "File \u001b[0;32m~/miniconda3/envs/arquitectura/lib/python3.11/site-packages/botocore/client.py:1023\u001b[0m, in \u001b[0;36mBaseClient._make_api_call\u001b[0;34m(self, operation_name, api_params)\u001b[0m\n\u001b[1;32m   1019\u001b[0m     error_code \u001b[38;5;241m=\u001b[39m error_info\u001b[38;5;241m.\u001b[39mget(\u001b[38;5;124m\"\u001b[39m\u001b[38;5;124mQueryErrorCode\u001b[39m\u001b[38;5;124m\"\u001b[39m) \u001b[38;5;129;01mor\u001b[39;00m error_info\u001b[38;5;241m.\u001b[39mget(\n\u001b[1;32m   1020\u001b[0m         \u001b[38;5;124m\"\u001b[39m\u001b[38;5;124mCode\u001b[39m\u001b[38;5;124m\"\u001b[39m\n\u001b[1;32m   1021\u001b[0m     )\n\u001b[1;32m   1022\u001b[0m     error_class \u001b[38;5;241m=\u001b[39m \u001b[38;5;28mself\u001b[39m\u001b[38;5;241m.\u001b[39mexceptions\u001b[38;5;241m.\u001b[39mfrom_code(error_code)\n\u001b[0;32m-> 1023\u001b[0m     \u001b[38;5;28;01mraise\u001b[39;00m error_class(parsed_response, operation_name)\n\u001b[1;32m   1024\u001b[0m \u001b[38;5;28;01melse\u001b[39;00m:\n\u001b[1;32m   1025\u001b[0m     \u001b[38;5;28;01mreturn\u001b[39;00m parsed_response\n",
      "\u001b[0;31mNoSuchKey\u001b[0m: An error occurred (NoSuchKey) when calling the GetObject operation: The specified key does not exist."
     ]
    }
   ],
   "source": [
    "prima_experiencia_global(ruta_carpeta_base_datos, ruta_archivo_parametros, ruta_cuotas, ruta_carpeta_calculos, ruta_emisiones, ruta_historico_cotizaciones, nombre_bucket)"
   ]
  },
  {
   "cell_type": "code",
   "execution_count": null,
   "id": "a7db35b0-96cd-4207-a9d8-4fd33933aa9d",
   "metadata": {},
   "outputs": [],
   "source": []
  }
 ],
 "metadata": {
  "kernelspec": {
   "display_name": "arquitectura",
   "language": "python",
   "name": "python3"
  },
  "language_info": {
   "codemirror_mode": {
    "name": "ipython",
    "version": 3
   },
   "file_extension": ".py",
   "mimetype": "text/x-python",
   "name": "python",
   "nbconvert_exporter": "python",
   "pygments_lexer": "ipython3",
   "version": "3.11.11"
  }
 },
 "nbformat": 4,
 "nbformat_minor": 5
}
